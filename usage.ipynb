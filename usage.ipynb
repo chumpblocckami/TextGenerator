{
  "nbformat": 4,
  "nbformat_minor": 0,
  "metadata": {
    "colab": {
      "name": "usage.ipynb",
      "provenance": [],
      "collapsed_sections": [],
      "authorship_tag": "ABX9TyNVl/I/r7eas0eEOZemSef5",
      "include_colab_link": true
    },
    "kernelspec": {
      "name": "python3",
      "display_name": "Python 3"
    }
  },
  "cells": [
    {
      "cell_type": "markdown",
      "metadata": {
        "id": "view-in-github",
        "colab_type": "text"
      },
      "source": [
        "<a href=\"https://colab.research.google.com/github/chumpblocckami/TextGenerator/blob/master/usage.ipynb\" target=\"_parent\"><img src=\"https://colab.research.google.com/assets/colab-badge.svg\" alt=\"Open In Colab\"/></a>"
      ]
    },
    {
      "cell_type": "code",
      "metadata": {
        "id": "MpdQbprmeaBY",
        "colab_type": "code",
        "colab": {}
      },
      "source": [
        "  import requests\n",
        "  from bs4 import BeautifulSoup\n",
        "  from collections import Counter\n",
        "  import nltk \n",
        "  import string\n",
        "  import time \n",
        "  import random \n",
        "  import TextGenerator"
      ],
      "execution_count": 0,
      "outputs": []
    },
    {
      "cell_type": "code",
      "metadata": {
        "id": "W8dWvbRGNOGk",
        "colab_type": "code",
        "colab": {
          "base_uri": "https://localhost:8080/",
          "height": 50
        },
        "outputId": "68d30349-55a6-45fe-9251-8879a01c0c23"
      },
      "source": [
        "%time\n",
        "tg = TextGenerator()\n",
        "text = tg.getTextFromWikipedia(\"https://it.wikipedia.org/wiki/Ciotola\")\n",
        "text_preproc = tg.Preprocessing(text)"
      ],
      "execution_count": 80,
      "outputs": [
        {
          "output_type": "stream",
          "text": [
            "CPU times: user 3 µs, sys: 0 ns, total: 3 µs\n",
            "Wall time: 6.44 µs\n"
          ],
          "name": "stdout"
        }
      ]
    },
    {
      "cell_type": "code",
      "metadata": {
        "id": "aevy3020b2F3",
        "colab_type": "code",
        "colab": {}
      },
      "source": [
        "%time\n",
        "tg.Simple(text_preproc)"
      ],
      "execution_count": 0,
      "outputs": []
    },
    {
      "cell_type": "code",
      "metadata": {
        "id": "AO_YaZU4NOLm",
        "colab_type": "code",
        "colab": {}
      },
      "source": [
        "%time\n",
        "tg.MostFrequent(text_preproc)"
      ],
      "execution_count": 0,
      "outputs": []
    },
    {
      "cell_type": "code",
      "metadata": {
        "id": "9pscb5CWNOJm",
        "colab_type": "code",
        "colab": {}
      },
      "source": [
        "%time\n",
        "tg.HiddenMarkovModel(text_preproc,lenght_sentence=10)"
      ],
      "execution_count": 0,
      "outputs": []
    }
  ]
}